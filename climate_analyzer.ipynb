{
 "cells": [
  {
   "cell_type": "code",
   "execution_count": 15,
   "metadata": {},
   "outputs": [],
   "source": [
    "## Step 1 - Climate Analysis and Exploration - import lots of things I might need\n",
    "%matplotlib inline\n",
    "from matplotlib import style\n",
    "style.use('fivethirtyeight')\n",
    "import matplotlib.pyplot as plt\n",
    "import numpy as np\n",
    "import pandas as pd\n",
    "import matplotlib as mp\n",
    "import datetime as dt\n",
    "from datetime import datetime, timedelta\n",
    "\n",
    "\n",
    "import sqlalchemy\n",
    "from sqlalchemy.ext.automap import automap_base\n",
    "from sqlalchemy.orm import Session\n",
    "from sqlalchemy import create_engine, func\n",
    "\n",
    "\n",
    "\n"
   ]
  },
  {
   "cell_type": "code",
   "execution_count": 16,
   "metadata": {},
   "outputs": [],
   "source": [
    "engine = create_engine(\"sqlite:///Resources/hawaii.sqlite\")"
   ]
  },
  {
   "cell_type": "code",
   "execution_count": 18,
   "metadata": {},
   "outputs": [],
   "source": [
    "# reflect an existing database into a new model\n",
    "Base = automap_base()\n",
    "# reflect the tables\n",
    "Base.prepare(engine, reflect=True)"
   ]
  },
  {
   "cell_type": "code",
   "execution_count": 19,
   "metadata": {},
   "outputs": [
    {
     "data": {
      "text/plain": [
       "['measurement', 'station']"
      ]
     },
     "execution_count": 19,
     "metadata": {},
     "output_type": "execute_result"
    }
   ],
   "source": [
    "# We can view all of the classes that automap found\n",
    "Base.classes.keys()"
   ]
  },
  {
   "cell_type": "code",
   "execution_count": 20,
   "metadata": {},
   "outputs": [],
   "source": [
    "# Save references to each table\n",
    "Measurement = Base.classes.measurement\n",
    "Station = Base.classes.station"
   ]
  },
  {
   "cell_type": "code",
   "execution_count": 21,
   "metadata": {},
   "outputs": [],
   "source": [
    "# Create our session (link) from Python to the DB\n",
    "session = Session(engine)"
   ]
  },
  {
   "cell_type": "code",
   "execution_count": 22,
   "metadata": {},
   "outputs": [
    {
     "name": "stdout",
     "output_type": "stream",
     "text": [
      "The End of Days is 2017-08-23\n"
     ]
    }
   ],
   "source": [
    "\n",
    "#Precipitation Analysis\n",
    "\n",
    "#1 year from latest date\n",
    "\n",
    "\n",
    "\n",
    "# Find the latest date of record\n",
    "final = session.query(Measurement.date).order_by(Measurement.date.desc()).first()[0]\n",
    "print(f\"The End of Days is {final}\")\n",
    "\n",
    "\n"
   ]
  },
  {
   "cell_type": "code",
   "execution_count": 80,
   "metadata": {},
   "outputs": [],
   "source": [
    "#vacation dates\n",
    "vacay_start_date = '2017-08-08'                                              \n",
    "vacay_end_date = '2017-08-23'"
   ]
  },
  {
   "cell_type": "code",
   "execution_count": 36,
   "metadata": {},
   "outputs": [
    {
     "name": "stdout",
     "output_type": "stream",
     "text": [
      "Life begins on:  2016-08-23\n"
     ]
    }
   ],
   "source": [
    "\n",
    "# Date 365 days before alleged armageddon\n",
    "start = dt.date(2017, 8, 23) - dt.timedelta(days=365)\n",
    "print(\"Life begins on: \", start)\n",
    "# answer mentally seems a day off but that will have to be ok"
   ]
  },
  {
   "cell_type": "code",
   "execution_count": 37,
   "metadata": {},
   "outputs": [],
   "source": [
    "# Perform a query to retrieve the data and precipitation scores\n",
    "# Save the query results as a Pandas DataFrame and set the index to the date column\n",
    "rain_dates = session.query(Measurement.date, Measurement.prcp).filter(Measurement.date >= \"2016-08-23\").\\\n",
    "    filter(Measurement.date <= \"2017-08-23\").all()\n"
   ]
  },
  {
   "cell_type": "code",
   "execution_count": 75,
   "metadata": {},
   "outputs": [
    {
     "data": {
      "text/html": [
       "<div>\n",
       "<style scoped>\n",
       "    .dataframe tbody tr th:only-of-type {\n",
       "        vertical-align: middle;\n",
       "    }\n",
       "\n",
       "    .dataframe tbody tr th {\n",
       "        vertical-align: top;\n",
       "    }\n",
       "\n",
       "    .dataframe thead th {\n",
       "        text-align: right;\n",
       "    }\n",
       "</style>\n",
       "<table border=\"1\" class=\"dataframe\">\n",
       "  <thead>\n",
       "    <tr style=\"text-align: right;\">\n",
       "      <th></th>\n",
       "      <th>date</th>\n",
       "      <th>prcp</th>\n",
       "    </tr>\n",
       "  </thead>\n",
       "  <tbody>\n",
       "    <tr>\n",
       "      <th>0</th>\n",
       "      <td>2016-08-23</td>\n",
       "      <td>0.00</td>\n",
       "    </tr>\n",
       "    <tr>\n",
       "      <th>1</th>\n",
       "      <td>2016-08-24</td>\n",
       "      <td>0.08</td>\n",
       "    </tr>\n",
       "    <tr>\n",
       "      <th>2</th>\n",
       "      <td>2016-08-25</td>\n",
       "      <td>0.08</td>\n",
       "    </tr>\n",
       "    <tr>\n",
       "      <th>3</th>\n",
       "      <td>2016-08-26</td>\n",
       "      <td>0.00</td>\n",
       "    </tr>\n",
       "    <tr>\n",
       "      <th>4</th>\n",
       "      <td>2016-08-27</td>\n",
       "      <td>0.00</td>\n",
       "    </tr>\n",
       "  </tbody>\n",
       "</table>\n",
       "</div>"
      ],
      "text/plain": [
       "         date  prcp\n",
       "0  2016-08-23  0.00\n",
       "1  2016-08-24  0.08\n",
       "2  2016-08-25  0.08\n",
       "3  2016-08-26  0.00\n",
       "4  2016-08-27  0.00"
      ]
     },
     "execution_count": 75,
     "metadata": {},
     "output_type": "execute_result"
    }
   ],
   "source": [
    "#panda df\n",
    "rain_df = pd.DataFrame(rain_dates)                                    \n",
    "rain_df.head()"
   ]
  },
  {
   "cell_type": "code",
   "execution_count": 42,
   "metadata": {},
   "outputs": [
    {
     "data": {
      "text/html": [
       "<div>\n",
       "<style scoped>\n",
       "    .dataframe tbody tr th:only-of-type {\n",
       "        vertical-align: middle;\n",
       "    }\n",
       "\n",
       "    .dataframe tbody tr th {\n",
       "        vertical-align: top;\n",
       "    }\n",
       "\n",
       "    .dataframe thead th {\n",
       "        text-align: right;\n",
       "    }\n",
       "</style>\n",
       "<table border=\"1\" class=\"dataframe\">\n",
       "  <thead>\n",
       "    <tr style=\"text-align: right;\">\n",
       "      <th></th>\n",
       "      <th>precipitation</th>\n",
       "    </tr>\n",
       "    <tr>\n",
       "      <th>date</th>\n",
       "      <th></th>\n",
       "    </tr>\n",
       "  </thead>\n",
       "  <tbody>\n",
       "    <tr>\n",
       "      <th>2016-08-23</th>\n",
       "      <td>0.00</td>\n",
       "    </tr>\n",
       "    <tr>\n",
       "      <th>2016-08-24</th>\n",
       "      <td>0.08</td>\n",
       "    </tr>\n",
       "    <tr>\n",
       "      <th>2016-08-25</th>\n",
       "      <td>0.08</td>\n",
       "    </tr>\n",
       "    <tr>\n",
       "      <th>2016-08-26</th>\n",
       "      <td>0.00</td>\n",
       "    </tr>\n",
       "    <tr>\n",
       "      <th>2016-08-27</th>\n",
       "      <td>0.00</td>\n",
       "    </tr>\n",
       "  </tbody>\n",
       "</table>\n",
       "</div>"
      ],
      "text/plain": [
       "            precipitation\n",
       "date                     \n",
       "2016-08-23           0.00\n",
       "2016-08-24           0.08\n",
       "2016-08-25           0.08\n",
       "2016-08-26           0.00\n",
       "2016-08-27           0.00"
      ]
     },
     "execution_count": 42,
     "metadata": {},
     "output_type": "execute_result"
    }
   ],
   "source": [
    "\n",
    "# Sort the dataframe by date\n",
    "#looking at the data, it's already sorted by date\n",
    "#resetting index to date\n",
    "rain_df = rain_df.set_index('date')                                      \n",
    "rain_df.rename(columns = {'prcp': 'precipitation'}, inplace=True)          \n",
    "rain_df.head()"
   ]
  },
  {
   "cell_type": "code",
   "execution_count": 45,
   "metadata": {},
   "outputs": [
    {
     "data": {
      "image/png": "[encoded data removed]",
      "text/plain": [
       "<Figure size 1152x576 with 1 Axes>"
      ]
     },
     "metadata": {},
     "output_type": "display_data"
    }
   ],
   "source": [
    "\n",
    "# Use Pandas Plotting with Matplotlib to plot the data, or just make a barchart somehow\n",
    "rain_df.plot(figsize=(16, 8),                                              # plots the data\n",
    "               sort_columns=True, \n",
    "               use_index=True, \n",
    "               legend=True,\n",
    "               fontsize=16,\n",
    "               rot=45, \n",
    "               color='orange'\n",
    "               \n",
    "              )\n",
    "plt.title('Precipitation in Hawaii from 23 Aug 2016 to 23 Aug 2017')\n",
    "plt.xlabel('Date', fontsize=20)\n",
    "plt.ylabel('Inches', fontsize=20)\n",
    "plt.show()"
   ]
  },
  {
   "cell_type": "code",
   "execution_count": 49,
   "metadata": {},
   "outputs": [
    {
     "data": {
      "text/html": [
       "<div>\n",
       "<style scoped>\n",
       "    .dataframe tbody tr th:only-of-type {\n",
       "        vertical-align: middle;\n",
       "    }\n",
       "\n",
       "    .dataframe tbody tr th {\n",
       "        vertical-align: top;\n",
       "    }\n",
       "\n",
       "    .dataframe thead th {\n",
       "        text-align: right;\n",
       "    }\n",
       "</style>\n",
       "<table border=\"1\" class=\"dataframe\">\n",
       "  <thead>\n",
       "    <tr style=\"text-align: right;\">\n",
       "      <th></th>\n",
       "      <th>precipitation</th>\n",
       "    </tr>\n",
       "  </thead>\n",
       "  <tbody>\n",
       "    <tr>\n",
       "      <th>count</th>\n",
       "      <td>2021.000000</td>\n",
       "    </tr>\n",
       "    <tr>\n",
       "      <th>mean</th>\n",
       "      <td>0.177279</td>\n",
       "    </tr>\n",
       "    <tr>\n",
       "      <th>std</th>\n",
       "      <td>0.461190</td>\n",
       "    </tr>\n",
       "    <tr>\n",
       "      <th>min</th>\n",
       "      <td>0.000000</td>\n",
       "    </tr>\n",
       "    <tr>\n",
       "      <th>25%</th>\n",
       "      <td>0.000000</td>\n",
       "    </tr>\n",
       "    <tr>\n",
       "      <th>50%</th>\n",
       "      <td>0.020000</td>\n",
       "    </tr>\n",
       "    <tr>\n",
       "      <th>75%</th>\n",
       "      <td>0.130000</td>\n",
       "    </tr>\n",
       "    <tr>\n",
       "      <th>max</th>\n",
       "      <td>6.700000</td>\n",
       "    </tr>\n",
       "  </tbody>\n",
       "</table>\n",
       "</div>"
      ],
      "text/plain": [
       "       precipitation\n",
       "count    2021.000000\n",
       "mean        0.177279\n",
       "std         0.461190\n",
       "min         0.000000\n",
       "25%         0.000000\n",
       "50%         0.020000\n",
       "75%         0.130000\n",
       "max         6.700000"
      ]
     },
     "execution_count": 49,
     "metadata": {},
     "output_type": "execute_result"
    }
   ],
   "source": [
    "#summary stats\n",
    "rain_df.describe()\n"
   ]
  },
  {
   "cell_type": "code",
   "execution_count": 51,
   "metadata": {},
   "outputs": [
    {
     "name": "stdout",
     "output_type": "stream",
     "text": [
      "There are 9 that we know of. The Feds are clearly hiding the rest from the aliens.\n"
     ]
    }
   ],
   "source": [
    "#Station anlysis - step 1 Design a query to calculate the total number of stations.\n",
    "num_stations = session.query(func.count(Station.station)).all()[0][0]\n",
    "print(f\"There are {num_stations} that we know of. The Feds are clearly hiding the rest from the aliens.\")\n"
   ]
  },
  {
   "cell_type": "code",
   "execution_count": 61,
   "metadata": {},
   "outputs": [
    {
     "name": "stdout",
     "output_type": "stream",
     "text": [
      "Station USC00519281 is most active. The ones the Feds hide are probably more active.\n"
     ]
    }
   ],
   "source": [
    "# Design a query to find the most active stations. Do some sorting next\n",
    "active_station = session.query(Measurement.station, func.count(Measurement.prcp)). \\\n",
    "                    group_by(Measurement.station). \\\n",
    "                    order_by(func.count(Measurement.prcp).desc()).all()\n",
    "\n",
    "print(f\"Station {active_station[0][0]} is most active. The ones the Feds hide are probably more active.\")\n"
   ]
  },
  {
   "cell_type": "code",
   "execution_count": 58,
   "metadata": {},
   "outputs": [
    {
     "data": {
      "text/plain": [
       "[('USC00519281', 'WAIHEE 837.5, HI US', 2772),\n",
       " ('USC00519397', 'WAIKIKI 717.2, HI US', 2724),\n",
       " ('USC00513117', 'KANEOHE 838.1, HI US', 2709),\n",
       " ('USC00519523', 'WAIMANALO EXPERIMENTAL FARM, HI US', 2669),\n",
       " ('USC00516128', 'MANOA LYON ARBO 785.2, HI US', 2612),\n",
       " ('USC00514830', 'KUALOA RANCH HEADQUARTERS 886.9, HI US', 2202),\n",
       " ('USC00511918', 'HONOLULU OBSERVATORY 702.2, HI US', 1979),\n",
       " ('USC00517948', 'PEARL CITY, HI US', 1372),\n",
       " ('USC00518838', 'UPPER WAHIAWA 874.3, HI US', 511)]"
      ]
     },
     "execution_count": 58,
     "metadata": {},
     "output_type": "execute_result"
    }
   ],
   "source": [
    "# List the stations and observation counts in descending order.\n",
    "station_action = session.query(Measurement.station, Station.name, func.count(Measurement.tobs)).\\\n",
    "filter(Measurement.station == Station.station).group_by(Measurement.station).order_by(func.count(Measurement.tobs).desc()).all()\n",
    "station_action"
   ]
  },
  {
   "cell_type": "code",
   "execution_count": 77,
   "metadata": {},
   "outputs": [
    {
     "data": {
      "text/plain": [
       "[(77.0),\n",
       " (77.0),\n",
       " (80.0),\n",
       " (80.0),\n",
       " (75.0),\n",
       " (73.0),\n",
       " (78.0),\n",
       " (77.0),\n",
       " (78.0),\n",
       " (80.0),\n",
       " (80.0),\n",
       " (78.0),\n",
       " (78.0),\n",
       " (78.0),\n",
       " (73.0),\n",
       " (74.0),\n",
       " (80.0),\n",
       " (79.0),\n",
       " (77.0),\n",
       " (80.0),\n",
       " (76.0),\n",
       " (79.0),\n",
       " (75.0),\n",
       " (79.0),\n",
       " (78.0),\n",
       " (79.0),\n",
       " (78.0),\n",
       " (78.0),\n",
       " (76.0),\n",
       " (74.0),\n",
       " (77.0),\n",
       " (78.0),\n",
       " (79.0),\n",
       " (79.0),\n",
       " (77.0),\n",
       " (80.0),\n",
       " (78.0),\n",
       " (78.0),\n",
       " (78.0),\n",
       " (77.0),\n",
       " (79.0),\n",
       " (79.0),\n",
       " (79.0),\n",
       " (79.0),\n",
       " (75.0),\n",
       " (76.0),\n",
       " (73.0),\n",
       " (72.0),\n",
       " (71.0),\n",
       " (77.0),\n",
       " (79.0),\n",
       " (78.0),\n",
       " (79.0),\n",
       " (77.0),\n",
       " (79.0),\n",
       " (77.0),\n",
       " (78.0),\n",
       " (78.0),\n",
       " (78.0),\n",
       " (78.0),\n",
       " (77.0),\n",
       " (74.0),\n",
       " (75.0),\n",
       " (76.0),\n",
       " (73.0),\n",
       " (76.0),\n",
       " (74.0),\n",
       " (77.0),\n",
       " (76.0),\n",
       " (76.0),\n",
       " (74.0),\n",
       " (75.0),\n",
       " (75.0),\n",
       " (75.0),\n",
       " (75.0),\n",
       " (71.0),\n",
       " (63.0),\n",
       " (70.0),\n",
       " (68.0),\n",
       " (67.0),\n",
       " (77.0),\n",
       " (74.0),\n",
       " (77.0),\n",
       " (76.0),\n",
       " (76.0),\n",
       " (75.0),\n",
       " (76.0),\n",
       " (75.0),\n",
       " (73.0),\n",
       " (75.0),\n",
       " (73.0),\n",
       " (75.0),\n",
       " (74.0),\n",
       " (75.0),\n",
       " (74.0),\n",
       " (75.0),\n",
       " (73.0),\n",
       " (75.0),\n",
       " (73.0),\n",
       " (73.0),\n",
       " (74.0),\n",
       " (70.0),\n",
       " (72.0),\n",
       " (70.0),\n",
       " (67.0),\n",
       " (67.0),\n",
       " (69.0),\n",
       " (70.0),\n",
       " (68.0),\n",
       " (69.0),\n",
       " (69.0),\n",
       " (66.0),\n",
       " (65.0),\n",
       " (68.0),\n",
       " (62.0),\n",
       " (75.0),\n",
       " (70.0),\n",
       " (69.0),\n",
       " (76.0),\n",
       " (76.0),\n",
       " (74.0),\n",
       " (73.0),\n",
       " (71.0),\n",
       " (74.0),\n",
       " (74.0),\n",
       " (72.0),\n",
       " (71.0),\n",
       " (72.0),\n",
       " (74.0),\n",
       " (69.0),\n",
       " (67.0),\n",
       " (72.0),\n",
       " (70.0),\n",
       " (64.0),\n",
       " (63.0),\n",
       " (63.0),\n",
       " (62.0),\n",
       " (70.0),\n",
       " (70.0),\n",
       " (62.0),\n",
       " (62.0),\n",
       " (63.0),\n",
       " (65.0),\n",
       " (69.0),\n",
       " (77.0),\n",
       " (70.0),\n",
       " (74.0),\n",
       " (69.0),\n",
       " (72.0),\n",
       " (71.0),\n",
       " (69.0),\n",
       " (71.0),\n",
       " (71.0),\n",
       " (72.0),\n",
       " (72.0),\n",
       " (69.0),\n",
       " (70.0),\n",
       " (66.0),\n",
       " (65.0),\n",
       " (69.0),\n",
       " (68.0),\n",
       " (68.0),\n",
       " (68.0),\n",
       " (59.0),\n",
       " (60.0),\n",
       " (70.0),\n",
       " (73.0),\n",
       " (75.0),\n",
       " (64.0),\n",
       " (59.0),\n",
       " (59.0),\n",
       " (62.0),\n",
       " (68.0),\n",
       " (70.0),\n",
       " (73.0),\n",
       " (79.0),\n",
       " (75.0),\n",
       " (65.0),\n",
       " (70.0),\n",
       " (74.0),\n",
       " (70.0),\n",
       " (70.0),\n",
       " (71.0),\n",
       " (71.0),\n",
       " (71.0),\n",
       " (69.0),\n",
       " (61.0),\n",
       " (67.0),\n",
       " (65.0),\n",
       " (72.0),\n",
       " (71.0),\n",
       " (73.0),\n",
       " (72.0),\n",
       " (77.0),\n",
       " (73.0),\n",
       " (67.0),\n",
       " (62.0),\n",
       " (64.0),\n",
       " (67.0),\n",
       " (66.0),\n",
       " (81.0),\n",
       " (69.0),\n",
       " (66.0),\n",
       " (67.0),\n",
       " (69.0),\n",
       " (66.0),\n",
       " (68.0),\n",
       " (65.0),\n",
       " (74.0),\n",
       " (69.0),\n",
       " (72.0),\n",
       " (73.0),\n",
       " (72.0),\n",
       " (71.0),\n",
       " (76.0),\n",
       " (77.0),\n",
       " (76.0),\n",
       " (74.0),\n",
       " (68.0),\n",
       " (73.0),\n",
       " (71.0),\n",
       " (74.0),\n",
       " (75.0),\n",
       " (70.0),\n",
       " (67.0),\n",
       " (71.0),\n",
       " (67.0),\n",
       " (74.0),\n",
       " (77.0),\n",
       " (78.0),\n",
       " (67.0),\n",
       " (70.0),\n",
       " (69.0),\n",
       " (69.0),\n",
       " (74.0),\n",
       " (78.0),\n",
       " (71.0),\n",
       " (67.0),\n",
       " (68.0),\n",
       " (67.0),\n",
       " (76.0),\n",
       " (69.0),\n",
       " (72.0),\n",
       " (76.0),\n",
       " (68.0),\n",
       " (72.0),\n",
       " (74.0),\n",
       " (70.0),\n",
       " (67.0),\n",
       " (72.0),\n",
       " (60.0),\n",
       " (65.0),\n",
       " (75.0),\n",
       " (70.0),\n",
       " (75.0),\n",
       " (70.0),\n",
       " (79.0),\n",
       " (75.0),\n",
       " (70.0),\n",
       " (67.0),\n",
       " (74.0),\n",
       " (70.0),\n",
       " (75.0),\n",
       " (76.0),\n",
       " (77.0),\n",
       " (74.0),\n",
       " (74.0),\n",
       " (74.0),\n",
       " (69.0),\n",
       " (68.0),\n",
       " (76.0),\n",
       " (74.0),\n",
       " (71.0),\n",
       " (71.0),\n",
       " (74.0),\n",
       " (74.0),\n",
       " (74.0),\n",
       " (74.0),\n",
       " (80.0),\n",
       " (74.0),\n",
       " (72.0),\n",
       " (75.0),\n",
       " (80.0),\n",
       " (76.0),\n",
       " (76.0),\n",
       " (77.0),\n",
       " (75.0),\n",
       " (75.0),\n",
       " (75.0),\n",
       " (75.0),\n",
       " (72.0),\n",
       " (74.0),\n",
       " (74.0),\n",
       " (74.0),\n",
       " (76.0),\n",
       " (74.0),\n",
       " (75.0),\n",
       " (73.0),\n",
       " (79.0),\n",
       " (75.0),\n",
       " (72.0),\n",
       " (72.0),\n",
       " (74.0),\n",
       " (72.0),\n",
       " (72.0),\n",
       " (77.0),\n",
       " (71.0),\n",
       " (73.0),\n",
       " (76.0),\n",
       " (77.0),\n",
       " (76.0),\n",
       " (76.0),\n",
       " (79.0),\n",
       " (81.0),\n",
       " (76.0),\n",
       " (78.0),\n",
       " (77.0),\n",
       " (74.0),\n",
       " (75.0),\n",
       " (78.0),\n",
       " (78.0),\n",
       " (69.0),\n",
       " (72.0),\n",
       " (74.0),\n",
       " (74.0),\n",
       " (76.0),\n",
       " (80.0),\n",
       " (80.0),\n",
       " (76.0),\n",
       " (76.0),\n",
       " (76.0),\n",
       " (77.0),\n",
       " (77.0),\n",
       " (77.0),\n",
       " (82.0),\n",
       " (75.0),\n",
       " (77.0),\n",
       " (75.0),\n",
       " (76.0),\n",
       " (81.0),\n",
       " (82.0),\n",
       " (81.0),\n",
       " (76.0),\n",
       " (77.0),\n",
       " (82.0),\n",
       " (83.0),\n",
       " (77.0),\n",
       " (77.0),\n",
       " (77.0),\n",
       " (76.0),\n",
       " (76.0),\n",
       " (79.0)]"
      ]
     },
     "execution_count": 77,
     "metadata": {},
     "output_type": "execute_result"
    }
   ],
   "source": [
    "#Design a query to retrieve the last 12 months of temperature observation data (tobs). OK!\n",
    "tobs_temp = session.query(Measurement.tobs). \\\n",
    "    filter(Measurement.date >=start). \\\n",
    "    filter(Measurement.station == active_stations[0][0]).all()\n",
    "tobs_temp"
   ]
  },
  {
   "cell_type": "code",
   "execution_count": 78,
   "metadata": {},
   "outputs": [
    {
     "data": {
      "image/png": "[encoded data removed]",
      "text/plain": [
       "<Figure size 432x288 with 1 Axes>"
      ]
     },
     "metadata": {},
     "output_type": "display_data"
    }
   ],
   "source": [
    "#plot the results as a histogram with `bins=12`\n",
    "\n",
    "tobs = [temp[0] for temp in tobs_temp]\n",
    "plt.hist(tobs, bins=12, color='orange') \n",
    "plt.title('USC00519281')\n",
    "plt.ylabel('Frequency', fontsize=20)\n",
    "plt.xlabel('Temperature Recorded')\n",
    "labels = ['Temperature Observations']\n",
    "plt.legend(labels)\n",
    "plt.show()"
   ]
  },
  {
   "cell_type": "code",
   "execution_count": null,
   "metadata": {},
   "outputs": [],
   "source": [
    "#  starTheter notebook contains a function called `calc_temps` that will accept a start date and end date in the format `%Y-%m-%d` and return the minimum, average, and maximum temperatures for that range of dates.\n",
    "#\n",
    "# Use the `calc_temps` function to calculate the min, avg, and max temperatures for your trip using the matching dates from the previous year (i.e., use \"2017-01-01\" if your trip start date was \"2018-01-01\").\n",
    "\n",
    "# Plot the min, avg, and max temperature from your previous query as a bar chart.\n",
    "\n",
    "# Use the average temperature as the bar height.\n",
    "# Use the peak-to-peak (tmax-tmin) value as the y error bar (yerr)."
   ]
  },
  {
   "cell_type": "code",
   "execution_count": 89,
   "metadata": {},
   "outputs": [
    {
     "name": "stdout",
     "output_type": "stream",
     "text": [
      "[(71.0, 78.3047619047619, 83.0)]\n"
     ]
    }
   ],
   "source": [
    "# This function called `calc_temps` will accept start date and end date in the format '%Y-%m-%d' \n",
    "# and return the minimum, average, and maximum temperatures for that range of dates\n",
    "def calc_temps(start_date, end_date):\n",
    "    \"\"\"TMIN, TAVG, and TMAX for a list of dates.\n",
    "    \n",
    "    Args:\n",
    "        start_date (string): A date string in the format %Y-%m-%d\n",
    "        end_date (string): A date string in the format %Y-%m-%d\n",
    "        \n",
    "    Returns:\n",
    "        TMIN, TAVE, and TMAX\n",
    "    \"\"\"\n",
    "    #think TAVE should be TAVG?\n",
    "    #guess not, it works\n",
    "    \n",
    "    return session.query(func.min(Measurement.tobs), func.avg(Measurement.tobs), func.max(Measurement.tobs)).\\\n",
    "        filter(Measurement.date >= start_date).filter(Measurement.date <= end_date).all()\n",
    "\n",
    "# function usage example (sub my dates)\n",
    "print(calc_temps('2016-08-08', '2016-08-23'))"
   ]
  },
  {
   "cell_type": "code",
   "execution_count": 104,
   "metadata": {},
   "outputs": [
    {
     "name": "stdout",
     "output_type": "stream",
     "text": [
      "[(71.0, 78.3047619047619, 83.0)]\n"
     ]
    }
   ],
   "source": [
    "#previous year from my vacation\n",
    "start_date='2016-08-08'\n",
    "end_date='2016-08-23'\n",
    "print(calc_temps(start_date, end_date))\n",
    "#feel like the answer should be fancier than this"
   ]
  },
  {
   "cell_type": "code",
   "execution_count": 144,
   "metadata": {},
   "outputs": [
    {
     "name": "stdout",
     "output_type": "stream",
     "text": [
      "The year before I wanted to go ran from 2016-08-08 and ends on 2016-08-23.\n",
      "For my trip the min temp is 71.0.\n",
      "mean temperature is 78.3047619047619\n",
      " max temp is 83.0.\n",
      " GREAT TIME TO GO IN 2017 UNLESS A TYPHOON HITS\n"
     ]
    }
   ],
   "source": [
    "start_date='2016-08-08'\n",
    "end_date='2016-08-23'\n",
    "\n",
    "[(tmin, tavg, tmax)] = calc_temps(start_date, end_date)\n",
    "\n",
    "\n",
    "print(f\"The year before I wanted to go ran from {start_date} and ends on {end_date}.\")\n",
    "print(f\"For my trip the min temp is {tmin}.\")\n",
    "print(f\"mean temperature is {tavg}\")\n",
    "print(f\" max temp is {tmax}.\")\n",
    "print(f\" GREAT TIME TO GO IN 2017 UNLESS A TYPHOON HITS\")\n",
    "#HA! Got it. After a mind-numbing search on the value, unpack expected 3 got 1 error I finally bothered to look at how I returned calc-temps\n"
   ]
  },
  {
   "cell_type": "code",
   "execution_count": 145,
   "metadata": {},
   "outputs": [
    {
     "data": {
      "image/png": "[encoded data removed]",
      "text/plain": [
       "<Figure size 144x360 with 1 Axes>"
      ]
     },
     "metadata": {},
     "output_type": "display_data"
    }
   ],
   "source": [
    "# Plot the results from your previous query as a bar chart. \n",
    "# Use \"Trip Avg Temp\" as your Title\n",
    "# Use the average temperature for the y value\n",
    "# Use the peak-to-peak (tmax-tmin) value as the y error bar (yerr)\n",
    "\n",
    "\n",
    "plt.figure(figsize=(2,5))\n",
    "plt.bar(0, tavg, color=\"orange\", width=4.0, yerr=tmax-tmin)\n",
    "plt.xlim((-1, 1))\n",
    "plt.ylim((0, 100))\n",
    "plt.ylabel(\"Temperature (F)\")\n",
    "plt.title(\"Trip Avg Temp\")\n",
    "plt.show()\n",
    "\n"
   ]
  },
  {
   "cell_type": "code",
   "execution_count": 141,
   "metadata": {},
   "outputs": [
    {
     "data": {
      "text/plain": [
       "[(62.0, 69.15384615384616, 77.0)]"
      ]
     },
     "execution_count": 141,
     "metadata": {},
     "output_type": "execute_result"
    }
   ],
   "source": [
    "# Create a query that will calculate the daily normals \n",
    "# (i.e. the averages for tmin, tmax, and tavg for all historic data matching a specific month and day)\n",
    "#from starter, seeing how it works\n",
    "\n",
    "def daily_normals(date):\n",
    "    \"\"\"Daily Normals.\n",
    "    \n",
    "    Args:\n",
    "        date (str): A date string in the format '%m-%d'\n",
    "        \n",
    "    Returns:\n",
    "        A list of tuples containing the daily normals, tmin, tavg, and tmax\n",
    "    \n",
    "    \"\"\"\n",
    "    \n",
    "    sel = [func.min(Measurement.tobs), func.avg(Measurement.tobs), func.max(Measurement.tobs)]\n",
    "    return session.query(*sel).filter(func.strftime(\"%m-%d\", Measurement.date) == date).all()\n",
    "    \n",
    "daily_normals(\"01-01\")"
   ]
  },
  {
   "cell_type": "code",
   "execution_count": null,
   "metadata": {},
   "outputs": [],
   "source": [
    "#/ Calculate the rainfall per weather station using the previous year's matching dates.\n",
    "\n",
    "#* Calculate the daily normals. Normals are the averages for the min, avg, and max temperatures.\n",
    "\n",
    "#* You are provided with a function called `daily_normals` that will calculate the daily normals for a specific date. This date string will be in the format `%m-%d`. Be sure to use all historic tobs that match that date string.\n",
    "\n",
    "#* Create a list of dates for your trip in the format `%m-%d`. Use the `daily_normals` function to calculate the normals for each date string and append the results to a list.\n",
    "\n",
    "#* Load the list of daily normals into a Pandas DataFrame and set the index equal to the date.\n",
    "\n",
    "#* Use Pandas to plot an area plot (`stacked=False`) for the daily normals.\n",
    "# had to go back to normal life, alas"
   ]
  },
  {
   "cell_type": "code",
   "execution_count": null,
   "metadata": {},
   "outputs": [],
   "source": []
  }
 ],
 "metadata": {
  "kernelspec": {
   "display_name": "Python 3",
   "language": "python",
   "name": "python3"
  },
  "language_info": {
   "codemirror_mode": {
    "name": "ipython",
    "version": 3
   },
   "file_extension": ".py",
   "mimetype": "text/x-python",
   "name": "python",
   "nbconvert_exporter": "python",
   "pygments_lexer": "ipython3",
   "version": "3.7.3"
  }
 },
 "nbformat": 4,
 "nbformat_minor": 2
}
